{
 "metadata": {
  "language_info": {
   "codemirror_mode": {
    "name": "ipython",
    "version": 3
   },
   "file_extension": ".py",
   "mimetype": "text/x-python",
   "name": "python",
   "nbconvert_exporter": "python",
   "pygments_lexer": "ipython3",
   "version": "3.9.4"
  },
  "orig_nbformat": 4,
  "kernelspec": {
   "name": "python3",
   "display_name": "Python 3.9.4 64-bit ('qiskit': conda)"
  },
  "interpreter": {
   "hash": "719b70cead591c08c7b0f1bcd4bde00bd9cce0726633d80969f72eadd10f377f"
  }
 },
 "nbformat": 4,
 "nbformat_minor": 2,
 "cells": [
  {
   "cell_type": "code",
   "execution_count": 2,
   "source": [
    "import numpy as np\n",
    "\n",
    "def grovers_dist(num_qubits, marked_item, n_iterations):\n",
    "    dist = {}\n",
    "    for i in range(2**num_qubits):\n",
    "        key = bin(i)[2:].zfill(num_qubits)\n",
    "        theta = np.arcsin(1/np.sqrt(2 ** num_qubits))\n",
    "        if i == marked_item:\n",
    "            dist[key] = np.sin((2*n_iterations+1)*theta)**2\n",
    "        else:\n",
    "            dist[key] = (np.cos((2*n_iterations+1)*theta)/(np.sqrt(2 ** num_qubits - 1)))**2\n",
    "    return dist"
   ],
   "outputs": [],
   "metadata": {}
  },
  {
   "cell_type": "code",
   "execution_count": 3,
   "source": [
    "num_qubits = 4\n",
    "marked_item = 6\n",
    "n_iterations = int(np.pi * np.sqrt(2 ** num_qubits) / 4)\n",
    "grovers_dist(num_qubits, marked_item, n_iterations)"
   ],
   "outputs": [
    {
     "output_type": "execute_result",
     "data": {
      "text/plain": [
       "{'0000': 0.0025787353515625,\n",
       " '0001': 0.0025787353515625,\n",
       " '0010': 0.0025787353515625,\n",
       " '0011': 0.0025787353515625,\n",
       " '0100': 0.0025787353515625,\n",
       " '0101': 0.0025787353515625,\n",
       " '0110': 0.9613189697265625,\n",
       " '0111': 0.0025787353515625,\n",
       " '1000': 0.0025787353515625,\n",
       " '1001': 0.0025787353515625,\n",
       " '1010': 0.0025787353515625,\n",
       " '1011': 0.0025787353515625,\n",
       " '1100': 0.0025787353515625,\n",
       " '1101': 0.0025787353515625,\n",
       " '1110': 0.0025787353515625,\n",
       " '1111': 0.0025787353515625}"
      ]
     },
     "metadata": {},
     "execution_count": 3
    }
   ],
   "metadata": {}
  },
  {
   "cell_type": "code",
   "execution_count": null,
   "source": [],
   "outputs": [],
   "metadata": {}
  }
 ]
}